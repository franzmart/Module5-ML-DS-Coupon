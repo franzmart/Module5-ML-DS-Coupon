{
 "cells": [
  {
   "cell_type": "markdown",
   "metadata": {
    "id": "CcUT6Fon_qRE"
   },
   "source": [
    "### Required Assignment 5.1: Will the Customer Accept the Coupon?\n",
    "\n",
    "**Context**\n",
    "\n",
    "Imagine driving through town and a coupon is delivered to your cell phone for a restaurant near where you are driving. Would you accept that coupon and take a short detour to the restaurant? Would you accept the coupon but use it on a subsequent trip? Would you ignore the coupon entirely? What if the coupon was for a bar instead of a restaurant? What about a coffee house? Would you accept a bar coupon with a minor passenger in the car? What about if it was just you and your partner in the car? Would weather impact the rate of acceptance? What about the time of day?\n",
    "\n",
    "Obviously, proximity to the business is a factor on whether the coupon is delivered to the driver or not, but what are the factors that determine whether a driver accepts the coupon once it is delivered to them? How would you determine whether a driver is likely to accept a coupon?\n",
    "\n",
    "**Overview**\n",
    "\n",
    "The goal of this project is to use what you know about visualizations and probability distributions to distinguish between customers who accepted a driving coupon versus those that did not.\n",
    "\n",
    "**Data**\n",
    "\n",
    "This data comes to us from the UCI Machine Learning repository and was collected via a survey on Amazon Mechanical Turk. The survey describes different driving scenarios including the destination, current time, weather, passenger, etc., and then ask the person whether he will accept the coupon if he is the driver. Answers that the user will drive there ‘right away’ or ‘later before the coupon expires’ are labeled as ‘Y = 1’ and answers ‘no, I do not want the coupon’ are labeled as ‘Y = 0’.  There are five different types of coupons -- less expensive restaurants (under \\$20), coffee houses, carry out & take away, bar, and more expensive restaurants (\\$20 - $50)."
   ]
  },
  {
   "cell_type": "markdown",
   "metadata": {
    "id": "1wORvMBJ_qRF"
   },
   "source": [
    "**Deliverables**\n",
    "\n",
    "Your final product should be a brief report that highlights the differences between customers who did and did not accept the coupons.  To explore the data you will utilize your knowledge of plotting, statistical summaries, and visualization using Python. You will publish your findings in a public facing github repository as your first portfolio piece.\n",
    "\n",
    "\n",
    "\n"
   ]
  },
  {
   "cell_type": "markdown",
   "metadata": {
    "id": "pG6_Ym6q_qRG"
   },
   "source": [
    "### Data Description\n",
    "Keep in mind that these values mentioned below are average values.\n",
    "\n",
    "The attributes of this data set include:\n",
    "1. User attributes\n",
    "    -  Gender: male, female\n",
    "    -  Age: below 21, 21 to 25, 26 to 30, etc.\n",
    "    -  Marital Status: single, married partner, unmarried partner, or widowed\n",
    "    -  Number of children: 0, 1, or more than 1\n",
    "    -  Education: high school, bachelors degree, associates degree, or graduate degree\n",
    "    -  Occupation: architecture & engineering, business & financial, etc.\n",
    "    -  Annual income: less than \\\\$12500, \\\\$12500 - \\\\$24999, \\\\$25000 - \\\\$37499, etc.\n",
    "    -  Number of times that he/she goes to a bar: 0, less than 1, 1 to 3, 4 to 8 or greater than 8\n",
    "    -  Number of times that he/she buys takeaway food: 0, less than 1, 1 to 3, 4 to 8 or greater\n",
    "    than 8\n",
    "    -  Number of times that he/she goes to a coffee house: 0, less than 1, 1 to 3, 4 to 8 or\n",
    "    greater than 8\n",
    "    -  Number of times that he/she eats at a restaurant with average expense less than \\\\$20 per\n",
    "    person: 0, less than 1, 1 to 3, 4 to 8 or greater than 8\n",
    "    -  Number of times that he/she goes to a bar: 0, less than 1, 1 to 3, 4 to 8 or greater than 8\n",
    "    \n",
    "\n",
    "2. Contextual attributes\n",
    "    - Driving destination: home, work, or no urgent destination\n",
    "    - Location of user, coupon and destination: we provide a map to show the geographical\n",
    "    location of the user, destination, and the venue, and we mark the distance between each\n",
    "    two places with time of driving. The user can see whether the venue is in the same\n",
    "    direction as the destination.\n",
    "    - Weather: sunny, rainy, or snowy\n",
    "    - Temperature: 30F, 55F, or 80F\n",
    "    - Time: 10AM, 2PM, or 6PM\n",
    "    - Passenger: alone, partner, kid(s), or friend(s)\n",
    "\n",
    "\n",
    "3. Coupon attributes\n",
    "    - time before it expires: 2 hours or one day"
   ]
  },
  {
   "cell_type": "code",
   "execution_count": 317,
   "metadata": {
    "id": "dzNoP3o__qRG"
   },
   "outputs": [],
   "source": [
    "import matplotlib.pyplot as plt\n",
    "import seaborn as sns\n",
    "import pandas as pd\n",
    "import numpy as np"
   ]
  },
  {
   "cell_type": "markdown",
   "metadata": {
    "id": "Ct8pI1uE_qRG"
   },
   "source": [
    "### Problems\n",
    "\n",
    "Use the prompts below to get started with your data analysis.  \n",
    "\n",
    "1. Read in the `coupons.csv` file.\n",
    "\n",
    "\n"
   ]
  },
  {
   "cell_type": "code",
   "execution_count": 347,
   "metadata": {
    "id": "X0vbffYg_qRH",
    "scrolled": false
   },
   "outputs": [
    {
     "data": {
      "text/plain": [
       "(12684, 26)"
      ]
     },
     "execution_count": 347,
     "metadata": {},
     "output_type": "execute_result"
    }
   ],
   "source": [
    "#We read the coupon.csv file and uploaded to a Data frame. \n",
    "coupon_data = pd.read_csv('coupons.csv')\n",
    "#We rename the'Y' column by 'Accepted_coupon'\n",
    "coupon_data.rename(columns={'Y': 'Accepted_coupon'}, inplace=True)\n",
    "coupon_data.shape\n",
    "\n",
    "#The Data frame contains 12,684 rows and 26 columns."
   ]
  },
  {
   "cell_type": "code",
   "execution_count": 348,
   "metadata": {
    "id": "TXofQ_DF_qRH",
    "outputId": "2fc96a2c-1112-4b54-f24f-dbb9bc88abfb",
    "scrolled": true
   },
   "outputs": [
    {
     "data": {
      "text/html": [
       "<div>\n",
       "<style scoped>\n",
       "    .dataframe tbody tr th:only-of-type {\n",
       "        vertical-align: middle;\n",
       "    }\n",
       "\n",
       "    .dataframe tbody tr th {\n",
       "        vertical-align: top;\n",
       "    }\n",
       "\n",
       "    .dataframe thead th {\n",
       "        text-align: right;\n",
       "    }\n",
       "</style>\n",
       "<table border=\"1\" class=\"dataframe\">\n",
       "  <thead>\n",
       "    <tr style=\"text-align: right;\">\n",
       "      <th></th>\n",
       "      <th>destination</th>\n",
       "      <th>passanger</th>\n",
       "      <th>weather</th>\n",
       "      <th>temperature</th>\n",
       "      <th>time</th>\n",
       "      <th>coupon</th>\n",
       "      <th>expiration</th>\n",
       "      <th>gender</th>\n",
       "      <th>age</th>\n",
       "      <th>maritalStatus</th>\n",
       "      <th>...</th>\n",
       "      <th>CoffeeHouse</th>\n",
       "      <th>CarryAway</th>\n",
       "      <th>RestaurantLessThan20</th>\n",
       "      <th>Restaurant20To50</th>\n",
       "      <th>toCoupon_GEQ5min</th>\n",
       "      <th>toCoupon_GEQ15min</th>\n",
       "      <th>toCoupon_GEQ25min</th>\n",
       "      <th>direction_same</th>\n",
       "      <th>direction_opp</th>\n",
       "      <th>Accepted_coupon</th>\n",
       "    </tr>\n",
       "  </thead>\n",
       "  <tbody>\n",
       "    <tr>\n",
       "      <th>0</th>\n",
       "      <td>No Urgent Place</td>\n",
       "      <td>Alone</td>\n",
       "      <td>Sunny</td>\n",
       "      <td>55</td>\n",
       "      <td>2PM</td>\n",
       "      <td>Restaurant(&lt;20)</td>\n",
       "      <td>1d</td>\n",
       "      <td>Female</td>\n",
       "      <td>21</td>\n",
       "      <td>Unmarried partner</td>\n",
       "      <td>...</td>\n",
       "      <td>never</td>\n",
       "      <td>NaN</td>\n",
       "      <td>4~8</td>\n",
       "      <td>1~3</td>\n",
       "      <td>1</td>\n",
       "      <td>0</td>\n",
       "      <td>0</td>\n",
       "      <td>0</td>\n",
       "      <td>1</td>\n",
       "      <td>1</td>\n",
       "    </tr>\n",
       "    <tr>\n",
       "      <th>1</th>\n",
       "      <td>No Urgent Place</td>\n",
       "      <td>Friend(s)</td>\n",
       "      <td>Sunny</td>\n",
       "      <td>80</td>\n",
       "      <td>10AM</td>\n",
       "      <td>Coffee House</td>\n",
       "      <td>2h</td>\n",
       "      <td>Female</td>\n",
       "      <td>21</td>\n",
       "      <td>Unmarried partner</td>\n",
       "      <td>...</td>\n",
       "      <td>never</td>\n",
       "      <td>NaN</td>\n",
       "      <td>4~8</td>\n",
       "      <td>1~3</td>\n",
       "      <td>1</td>\n",
       "      <td>0</td>\n",
       "      <td>0</td>\n",
       "      <td>0</td>\n",
       "      <td>1</td>\n",
       "      <td>0</td>\n",
       "    </tr>\n",
       "    <tr>\n",
       "      <th>2</th>\n",
       "      <td>No Urgent Place</td>\n",
       "      <td>Friend(s)</td>\n",
       "      <td>Sunny</td>\n",
       "      <td>80</td>\n",
       "      <td>10AM</td>\n",
       "      <td>Carry out &amp; Take away</td>\n",
       "      <td>2h</td>\n",
       "      <td>Female</td>\n",
       "      <td>21</td>\n",
       "      <td>Unmarried partner</td>\n",
       "      <td>...</td>\n",
       "      <td>never</td>\n",
       "      <td>NaN</td>\n",
       "      <td>4~8</td>\n",
       "      <td>1~3</td>\n",
       "      <td>1</td>\n",
       "      <td>1</td>\n",
       "      <td>0</td>\n",
       "      <td>0</td>\n",
       "      <td>1</td>\n",
       "      <td>1</td>\n",
       "    </tr>\n",
       "    <tr>\n",
       "      <th>3</th>\n",
       "      <td>No Urgent Place</td>\n",
       "      <td>Friend(s)</td>\n",
       "      <td>Sunny</td>\n",
       "      <td>80</td>\n",
       "      <td>2PM</td>\n",
       "      <td>Coffee House</td>\n",
       "      <td>2h</td>\n",
       "      <td>Female</td>\n",
       "      <td>21</td>\n",
       "      <td>Unmarried partner</td>\n",
       "      <td>...</td>\n",
       "      <td>never</td>\n",
       "      <td>NaN</td>\n",
       "      <td>4~8</td>\n",
       "      <td>1~3</td>\n",
       "      <td>1</td>\n",
       "      <td>1</td>\n",
       "      <td>0</td>\n",
       "      <td>0</td>\n",
       "      <td>1</td>\n",
       "      <td>0</td>\n",
       "    </tr>\n",
       "    <tr>\n",
       "      <th>4</th>\n",
       "      <td>No Urgent Place</td>\n",
       "      <td>Friend(s)</td>\n",
       "      <td>Sunny</td>\n",
       "      <td>80</td>\n",
       "      <td>2PM</td>\n",
       "      <td>Coffee House</td>\n",
       "      <td>1d</td>\n",
       "      <td>Female</td>\n",
       "      <td>21</td>\n",
       "      <td>Unmarried partner</td>\n",
       "      <td>...</td>\n",
       "      <td>never</td>\n",
       "      <td>NaN</td>\n",
       "      <td>4~8</td>\n",
       "      <td>1~3</td>\n",
       "      <td>1</td>\n",
       "      <td>1</td>\n",
       "      <td>0</td>\n",
       "      <td>0</td>\n",
       "      <td>1</td>\n",
       "      <td>0</td>\n",
       "    </tr>\n",
       "    <tr>\n",
       "      <th>5</th>\n",
       "      <td>No Urgent Place</td>\n",
       "      <td>Friend(s)</td>\n",
       "      <td>Sunny</td>\n",
       "      <td>80</td>\n",
       "      <td>6PM</td>\n",
       "      <td>Restaurant(&lt;20)</td>\n",
       "      <td>2h</td>\n",
       "      <td>Female</td>\n",
       "      <td>21</td>\n",
       "      <td>Unmarried partner</td>\n",
       "      <td>...</td>\n",
       "      <td>never</td>\n",
       "      <td>NaN</td>\n",
       "      <td>4~8</td>\n",
       "      <td>1~3</td>\n",
       "      <td>1</td>\n",
       "      <td>1</td>\n",
       "      <td>0</td>\n",
       "      <td>0</td>\n",
       "      <td>1</td>\n",
       "      <td>1</td>\n",
       "    </tr>\n",
       "    <tr>\n",
       "      <th>6</th>\n",
       "      <td>No Urgent Place</td>\n",
       "      <td>Friend(s)</td>\n",
       "      <td>Sunny</td>\n",
       "      <td>55</td>\n",
       "      <td>2PM</td>\n",
       "      <td>Carry out &amp; Take away</td>\n",
       "      <td>1d</td>\n",
       "      <td>Female</td>\n",
       "      <td>21</td>\n",
       "      <td>Unmarried partner</td>\n",
       "      <td>...</td>\n",
       "      <td>never</td>\n",
       "      <td>NaN</td>\n",
       "      <td>4~8</td>\n",
       "      <td>1~3</td>\n",
       "      <td>1</td>\n",
       "      <td>1</td>\n",
       "      <td>0</td>\n",
       "      <td>0</td>\n",
       "      <td>1</td>\n",
       "      <td>1</td>\n",
       "    </tr>\n",
       "    <tr>\n",
       "      <th>7</th>\n",
       "      <td>No Urgent Place</td>\n",
       "      <td>Kid(s)</td>\n",
       "      <td>Sunny</td>\n",
       "      <td>80</td>\n",
       "      <td>10AM</td>\n",
       "      <td>Restaurant(&lt;20)</td>\n",
       "      <td>2h</td>\n",
       "      <td>Female</td>\n",
       "      <td>21</td>\n",
       "      <td>Unmarried partner</td>\n",
       "      <td>...</td>\n",
       "      <td>never</td>\n",
       "      <td>NaN</td>\n",
       "      <td>4~8</td>\n",
       "      <td>1~3</td>\n",
       "      <td>1</td>\n",
       "      <td>1</td>\n",
       "      <td>0</td>\n",
       "      <td>0</td>\n",
       "      <td>1</td>\n",
       "      <td>1</td>\n",
       "    </tr>\n",
       "    <tr>\n",
       "      <th>8</th>\n",
       "      <td>No Urgent Place</td>\n",
       "      <td>Kid(s)</td>\n",
       "      <td>Sunny</td>\n",
       "      <td>80</td>\n",
       "      <td>10AM</td>\n",
       "      <td>Carry out &amp; Take away</td>\n",
       "      <td>2h</td>\n",
       "      <td>Female</td>\n",
       "      <td>21</td>\n",
       "      <td>Unmarried partner</td>\n",
       "      <td>...</td>\n",
       "      <td>never</td>\n",
       "      <td>NaN</td>\n",
       "      <td>4~8</td>\n",
       "      <td>1~3</td>\n",
       "      <td>1</td>\n",
       "      <td>1</td>\n",
       "      <td>0</td>\n",
       "      <td>0</td>\n",
       "      <td>1</td>\n",
       "      <td>1</td>\n",
       "    </tr>\n",
       "    <tr>\n",
       "      <th>9</th>\n",
       "      <td>No Urgent Place</td>\n",
       "      <td>Kid(s)</td>\n",
       "      <td>Sunny</td>\n",
       "      <td>80</td>\n",
       "      <td>10AM</td>\n",
       "      <td>Bar</td>\n",
       "      <td>1d</td>\n",
       "      <td>Female</td>\n",
       "      <td>21</td>\n",
       "      <td>Unmarried partner</td>\n",
       "      <td>...</td>\n",
       "      <td>never</td>\n",
       "      <td>NaN</td>\n",
       "      <td>4~8</td>\n",
       "      <td>1~3</td>\n",
       "      <td>1</td>\n",
       "      <td>1</td>\n",
       "      <td>0</td>\n",
       "      <td>0</td>\n",
       "      <td>1</td>\n",
       "      <td>0</td>\n",
       "    </tr>\n",
       "  </tbody>\n",
       "</table>\n",
       "<p>10 rows × 26 columns</p>\n",
       "</div>"
      ],
      "text/plain": [
       "       destination  passanger weather  temperature  time  \\\n",
       "0  No Urgent Place      Alone   Sunny           55   2PM   \n",
       "1  No Urgent Place  Friend(s)   Sunny           80  10AM   \n",
       "2  No Urgent Place  Friend(s)   Sunny           80  10AM   \n",
       "3  No Urgent Place  Friend(s)   Sunny           80   2PM   \n",
       "4  No Urgent Place  Friend(s)   Sunny           80   2PM   \n",
       "5  No Urgent Place  Friend(s)   Sunny           80   6PM   \n",
       "6  No Urgent Place  Friend(s)   Sunny           55   2PM   \n",
       "7  No Urgent Place     Kid(s)   Sunny           80  10AM   \n",
       "8  No Urgent Place     Kid(s)   Sunny           80  10AM   \n",
       "9  No Urgent Place     Kid(s)   Sunny           80  10AM   \n",
       "\n",
       "                  coupon expiration  gender age      maritalStatus  ...  \\\n",
       "0        Restaurant(<20)         1d  Female  21  Unmarried partner  ...   \n",
       "1           Coffee House         2h  Female  21  Unmarried partner  ...   \n",
       "2  Carry out & Take away         2h  Female  21  Unmarried partner  ...   \n",
       "3           Coffee House         2h  Female  21  Unmarried partner  ...   \n",
       "4           Coffee House         1d  Female  21  Unmarried partner  ...   \n",
       "5        Restaurant(<20)         2h  Female  21  Unmarried partner  ...   \n",
       "6  Carry out & Take away         1d  Female  21  Unmarried partner  ...   \n",
       "7        Restaurant(<20)         2h  Female  21  Unmarried partner  ...   \n",
       "8  Carry out & Take away         2h  Female  21  Unmarried partner  ...   \n",
       "9                    Bar         1d  Female  21  Unmarried partner  ...   \n",
       "\n",
       "   CoffeeHouse CarryAway RestaurantLessThan20 Restaurant20To50  \\\n",
       "0        never       NaN                  4~8              1~3   \n",
       "1        never       NaN                  4~8              1~3   \n",
       "2        never       NaN                  4~8              1~3   \n",
       "3        never       NaN                  4~8              1~3   \n",
       "4        never       NaN                  4~8              1~3   \n",
       "5        never       NaN                  4~8              1~3   \n",
       "6        never       NaN                  4~8              1~3   \n",
       "7        never       NaN                  4~8              1~3   \n",
       "8        never       NaN                  4~8              1~3   \n",
       "9        never       NaN                  4~8              1~3   \n",
       "\n",
       "  toCoupon_GEQ5min toCoupon_GEQ15min toCoupon_GEQ25min direction_same  \\\n",
       "0                1                 0                 0              0   \n",
       "1                1                 0                 0              0   \n",
       "2                1                 1                 0              0   \n",
       "3                1                 1                 0              0   \n",
       "4                1                 1                 0              0   \n",
       "5                1                 1                 0              0   \n",
       "6                1                 1                 0              0   \n",
       "7                1                 1                 0              0   \n",
       "8                1                 1                 0              0   \n",
       "9                1                 1                 0              0   \n",
       "\n",
       "  direction_opp Accepted_coupon  \n",
       "0             1               1  \n",
       "1             1               0  \n",
       "2             1               1  \n",
       "3             1               0  \n",
       "4             1               0  \n",
       "5             1               1  \n",
       "6             1               1  \n",
       "7             1               1  \n",
       "8             1               1  \n",
       "9             1               0  \n",
       "\n",
       "[10 rows x 26 columns]"
      ]
     },
     "execution_count": 348,
     "metadata": {},
     "output_type": "execute_result"
    }
   ],
   "source": [
    "coupon_data.head(10)"
   ]
  },
  {
   "cell_type": "markdown",
   "metadata": {
    "id": "GcDs78ZH_qRH"
   },
   "source": [
    "2. Investigate the dataset for missing or problematic data."
   ]
  },
  {
   "cell_type": "code",
   "execution_count": 349,
   "metadata": {
    "id": "6CwL6oWj_qRH"
   },
   "outputs": [
    {
     "name": "stdout",
     "output_type": "stream",
     "text": [
      "Data Frame duplicates: 74\n"
     ]
    }
   ],
   "source": [
    "#Step 1: Detect duplicates\n",
    "duplicates = coupon_data.duplicated()\n",
    "print(\"Data Frame duplicates: \" + str(len(coupon_data[duplicates])))\n",
    "#since we do not have a primary key for each row, we will assume that each record represents a different driver. Therefore, we will not eliminate identical rows. No changes are needed."
   ]
  },
  {
   "cell_type": "code",
   "execution_count": 350,
   "metadata": {},
   "outputs": [
    {
     "name": "stdout",
     "output_type": "stream",
     "text": [
      "Data Frame Coupon structure\n",
      "destination             object\n",
      "passanger               object\n",
      "weather                 object\n",
      "temperature              int64\n",
      "time                    object\n",
      "coupon                  object\n",
      "expiration              object\n",
      "gender                  object\n",
      "age                     object\n",
      "maritalStatus           object\n",
      "has_children             int64\n",
      "education               object\n",
      "occupation              object\n",
      "income                  object\n",
      "car                     object\n",
      "Bar                     object\n",
      "CoffeeHouse             object\n",
      "CarryAway               object\n",
      "RestaurantLessThan20    object\n",
      "Restaurant20To50        object\n",
      "toCoupon_GEQ5min         int64\n",
      "toCoupon_GEQ15min        int64\n",
      "toCoupon_GEQ25min        int64\n",
      "direction_same           int64\n",
      "direction_opp            int64\n",
      "Accepted_coupon          int64\n",
      "dtype: object\n"
     ]
    }
   ],
   "source": [
    "#Step 2: Resolve Structural Errors\n",
    "print(\"Data Frame Coupon structure\" )\n",
    "print(coupon_data.dtypes)\n",
    "\n",
    "# We inspected the data structure of the Data frame, and we observed a couple of numeric fields registered as String (object) fields. For instance, age and income fields. \n",
    "# We will not convert the string fields to numerica because they contain data ranges that will help us in our data analysis later. "
   ]
  },
  {
   "cell_type": "code",
   "execution_count": 351,
   "metadata": {},
   "outputs": [
    {
     "name": "stdout",
     "output_type": "stream",
     "text": [
      "Car field - Unique values: [nan 'Scooter and motorcycle' 'crossover' 'Mazda5' 'do not drive'\n",
      " 'Car that is too old to install Onstar :D']\n",
      "Number of drivers that do not drive: 22\n",
      "Number of drivers after removing the ones that do not drive: 12662\n"
     ]
    }
   ],
   "source": [
    "#Step 3: Filter Outliers\n",
    "car = coupon_data['car'].unique() \n",
    "# We have a few drivers that “do not drive”. We will exclude them from the data frame because they are not drivers and therefore valid records. \n",
    "print(\"Car field - Unique values: \"+str(car))\n",
    "\n",
    "car_do_not_drive=coupon_data.query('car == \"do not drive\" ')\n",
    "length_car_do_not_drive = len(car_do_not_drive)\n",
    "print (\"Number of drivers that do not drive: \" + str(length_car_do_not_drive))\n",
    "\n",
    "#We exclude 22 rows with car value equal to \"do not drive\"\n",
    "coupon_data=coupon_data.query('car != \"do not drive\" ')\n",
    "length_after2 = len(coupon_data)\n",
    "\n",
    "print (\"Number of drivers after removing the ones that do not drive: \"  + str(length_after2))"
   ]
  },
  {
   "cell_type": "code",
   "execution_count": 352,
   "metadata": {},
   "outputs": [
    {
     "name": "stdout",
     "output_type": "stream",
     "text": [
      "Number of drivers with an old car: 21\n"
     ]
    }
   ],
   "source": [
    "#Step 4: Validate\n",
    "\n",
    "#Based on inspection, I observed that car column has “Car that is too old to install Onstar :D” value. \n",
    "#We will maintain these rows and replace this car value with “Model Y”. \n",
    "#Afterall, we do not focus on car models, but the coupon usage. We replaced 21 rows.\n",
    "\n",
    "#Number of drivers with an old car\n",
    "car_old_data = coupon_data.query('car == \"Car that is too old to install Onstar :D\"')\n",
    "length_car_old_data = len(car_old_data)\n",
    "print (\"Number of drivers with an old car: \" + str(length_car_old_data))\n",
    "\n",
    "# Lastly, we will maintain these rows and replace this car value with “Model Y”. \n",
    "coupon_data.loc[coupon_data['car'] == \"Car that is too old to install Onstar :D\", \"car\" ] = 'Model Y'\n",
    "#coupon_data['car'].unique()"
   ]
  },
  {
   "cell_type": "code",
   "execution_count": 353,
   "metadata": {},
   "outputs": [
    {
     "name": "stdout",
     "output_type": "stream",
     "text": [
      "Number of drivers after cleansing: 12662\n"
     ]
    }
   ],
   "source": [
    "#New clean data frame\n",
    "coupon_data_cleaned=coupon_data\n",
    "length_coupon_data_cleaned = len(coupon_data_cleaned)\n",
    "print (\"Number of drivers after cleansing: \" + str(length_coupon_data_cleaned))\n",
    "coupon_data_cleaned.reset_index(inplace=True)"
   ]
  },
  {
   "cell_type": "markdown",
   "metadata": {
    "id": "bSdVSpYB_qRH"
   },
   "source": [
    "3. Decide what to do about your missing data -- drop, replace, other..."
   ]
  },
  {
   "cell_type": "code",
   "execution_count": 354,
   "metadata": {
    "id": "tyvoAC5F_qRI"
   },
   "outputs": [
    {
     "name": "stdout",
     "output_type": "stream",
     "text": [
      "Car unique values: [nan 'Scooter and motorcycle' 'crossover' 'Mazda5' 'Model Y']\n",
      "Bar unique values: ['never' 'less1' '1~3' 'gt8' nan '4~8']\n",
      "Coffee house unique values: ['never' 'less1' '4~8' '1~3' 'gt8' nan]\n",
      "Carry Away unique values[nan '4~8' '1~3' 'gt8' 'less1' 'never']\n",
      "Restaurantlessthan 20 unique values['4~8' '1~3' 'less1' 'gt8' nan 'never']\n",
      "Restaurant From 20 To 50 unique values['1~3' 'less1' 'never' 'gt8' '4~8' nan]\n"
     ]
    }
   ],
   "source": [
    "#Data cleansing\n",
    "#To detect any empty values, we searched for all the unique values for each data frame column\n",
    "#and printed the values for inspection. \n",
    "\n",
    "destination = coupon_data_cleaned['destination'].unique() #The values are reasonable\n",
    "passanger = coupon_data_cleaned['passanger'].unique() #The values are reasonable\n",
    "weather = coupon_data_cleaned['weather'].unique() #The values are reasonable\n",
    "temperature = coupon_data_cleaned['temperature'].unique() #The values are reasonable\n",
    "time = coupon_data_cleaned['time'].unique() #The values are reasonable\n",
    "coupon = coupon_data_cleaned['coupon'].unique() #The values are reasonable\n",
    "expiration = coupon_data_cleaned['expiration'].unique() #The values are reasonable\n",
    "gender = coupon_data_cleaned['gender'].unique() #The values are reasonable\n",
    "age = coupon_data_cleaned['age'].unique() #The values are reasonable\n",
    "maritalStatus = coupon_data_cleaned['maritalStatus'].unique() #The values are reasonable\n",
    "has_children = coupon_data_cleaned['has_children'].unique() #The values are reasonable\n",
    "education = coupon_data_cleaned['education'].unique() #The values are reasonable\n",
    "occupation = coupon_data_cleaned['occupation'].unique() #The values are reasonable\n",
    "income = coupon_data_cleaned['income'].unique() #The values are reasonable\n",
    "car = coupon_data_cleaned['car'].unique() #We have nan values. \n",
    "Bar = coupon_data_cleaned['Bar'].unique() #We have nan values.\n",
    "CoffeeHouse = coupon_data_cleaned['CoffeeHouse'].unique() #We have nan values.\n",
    "CarryAway = coupon_data_cleaned['CarryAway'].unique() #We have nan values.\n",
    "RestaurantLessThan20 = coupon_data_cleaned['RestaurantLessThan20'].unique() #We have nan values.\n",
    "Restaurant20To50 = coupon_data_cleaned['Restaurant20To50'].unique() #We have nan values.\n",
    "toCoupon_GEQ5min = coupon_data_cleaned['toCoupon_GEQ5min'].unique() #We have pure 1 values ... this column is worthless.\n",
    "toCoupon_GEQ15min = coupon_data_cleaned['toCoupon_GEQ15min'].unique() #The values are reasonable\n",
    "toCoupon_GEQ25min = coupon_data_cleaned['toCoupon_GEQ25min'].unique() #The values are reasonable\n",
    "direction_same = coupon_data_cleaned['direction_same'].unique() #The values are reasonable\n",
    "direction_opp = coupon_data_cleaned['direction_opp'].unique() #The values are reasonable\n",
    "Accepted_coupon = coupon_data_cleaned['Accepted_coupon'].unique() #The values are reasonable\n",
    "\n",
    "print(\"Car unique values: \"+str(car))\n",
    "print(\"Bar unique values: \" + str(Bar))\n",
    "print(\"Coffee house unique values: \" + str(CoffeeHouse))\n",
    "print(\"Carry Away unique values\" + str(CarryAway))\n",
    "print(\"Restaurantlessthan 20 unique values\"+ str(RestaurantLessThan20))\n",
    "print(\"Restaurant From 20 To 50 unique values\"+ str(Restaurant20To50))\n"
   ]
  },
  {
   "cell_type": "code",
   "execution_count": 355,
   "metadata": {},
   "outputs": [
    {
     "name": "stdout",
     "output_type": "stream",
     "text": [
      "Number of empty values in car column: 12576\n"
     ]
    },
    {
     "data": {
      "image/png": "[encoded data removed]",
      "text/plain": [
       "<Figure size 432x288 with 1 Axes>"
      ]
     },
     "metadata": {
      "needs_background": "light"
     },
     "output_type": "display_data"
    }
   ],
   "source": [
    "# For car field, we expect to capture the car model data. However, we need to understand\n",
    "# the meaning of the empty value. It could mean that we have no car for this driver, and\n",
    "# he did not receive a coupon. Hence, to set some context, we prepared a “countplot” chart\n",
    "# to identify whether drivers with empty car field used the coupon and went to a Restaurant, Bar, etc. \n",
    "\n",
    "coupon_data_cleaned_carna=coupon_data_cleaned[coupon_data_cleaned['car'].isnull()]\n",
    "lenght_coupon_data_cleaned_carna = len(coupon_data_cleaned_carna)\n",
    "\n",
    "g=sns.countplot(x='coupon', hue = 'Accepted_coupon' , data=coupon_data_cleaned_carna)\n",
    "g.set_xticklabels(g.get_xticklabels(), rotation=90)\n",
    "plt.legend(labels=[\"No\",\"Yes\"], title = \"Coupon usage\")\n",
    "plt.xlabel(\"Restaurants\")\n",
    "plt.ylabel(\"Number of drivers\")\n",
    "plt.title(\"Number of drivers with no car model vs Restaurant\", fontweight='bold', y=1.05)\n",
    "print(\"Number of empty values in car column: \" + str(lenght_coupon_data_cleaned_carna))\n"
   ]
  },
  {
   "cell_type": "code",
   "execution_count": 356,
   "metadata": {},
   "outputs": [
    {
     "name": "stdout",
     "output_type": "stream",
     "text": [
      "Number of driver after car model replacement: 12662\n"
     ]
    }
   ],
   "source": [
    "# From chart inspection, we observed that some of the drivers used the discount coupon. \n",
    "# Therefore, they have a car, but the data does not show the car model. We will fill out\n",
    "# the empty spaces with “Model X” value. So they can be considered in the analysis. \n",
    "# We replaced 12,576 rows\n",
    "\n",
    "coupon_data_cleaned.loc[coupon_data_cleaned['car'].isnull(), \"car\" ] = 'Model X'\n",
    "length_after1 = len(coupon_data_cleaned)\n",
    "\n",
    "print(\"Number of driver after car model replacement: \" + str(length_after1) )\n"
   ]
  },
  {
   "cell_type": "code",
   "execution_count": 357,
   "metadata": {},
   "outputs": [
    {
     "name": "stdout",
     "output_type": "stream",
     "text": [
      "Columns with empty values in Data Frame: ['Bar', 'CoffeeHouse', 'CarryAway', 'RestaurantLessThan20', 'Restaurant20To50']\n",
      "Number of drivers with no empty values: 12057\n"
     ]
    }
   ],
   "source": [
    "#For all the restaurant fields with empty values, we will drop all the rows that did not go to any of the restaurants\n",
    "#(bars, coffee, etc.). There is no value in analyzing discount coupons if we do not know the consumer profile. \n",
    "#After removing those rows, we retain 12,057 drivers.\n",
    "\n",
    "columns_with_na = coupon_data_cleaned.columns[coupon_data_cleaned.isna().any()].tolist()\n",
    "print(\"Columns with empty values in Data Frame: \" + str(columns_with_na))\n",
    "\n",
    "coupon_data_cleaned_nona=coupon_data_cleaned.dropna()\n",
    "lenght_coupon_data_cleaned_nona=len(coupon_data_cleaned_nona)\n",
    "print(\"Number of drivers with no empty values: \" + str(lenght_coupon_data_cleaned_nona))\n"
   ]
  },
  {
   "cell_type": "markdown",
   "metadata": {
    "id": "YE6oJbXd_qRI"
   },
   "source": [
    "4. What proportion of the total observations chose to accept the coupon?\n",
    "\n"
   ]
  },
  {
   "cell_type": "code",
   "execution_count": 358,
   "metadata": {
    "id": "86GGqBTv_qRI"
   },
   "outputs": [
    {
     "name": "stdout",
     "output_type": "stream",
     "text": [
      "Drivers who accepted the coupons: 6867\n",
      "Total of observations: 12057\n",
      "Percentage of drivers who accepted the coupon: 57.0%\n"
     ]
    },
    {
     "data": {
      "image/png": "[encoded data removed]",
      "text/plain": [
       "<Figure size 432x288 with 1 Axes>"
      ]
     },
     "metadata": {},
     "output_type": "display_data"
    }
   ],
   "source": [
    "# We filtered the data frame by the drivers who accepted the coupons, and then\n",
    "# we compared it with the total number of observations. We found that 57% of the drivers\n",
    "# accepted the coupons. Also, we prepared a pie chart to facilitate the inspection.\n",
    "\n",
    "# Calculations for drivers who accepted the coupons\n",
    "Accept_coupon= len(coupon_data_cleaned_nona.query('Accepted_coupon == 1'))\n",
    "Percentage = round((Accept_coupon / lenght_coupon_data_cleaned_nona)*100,0)\n",
    "\n",
    "\n",
    "# Create the pie chart\n",
    "y = coupon_data_cleaned_nona.groupby(['Accepted_coupon']).count()\n",
    "fig, ax = plt.subplots()\n",
    "labels = [\"Coupon not accepted\", \"Coupon accepted\"]\n",
    "wedges, texts, autotexts = ax.pie(y['coupon'], labels=None, autopct='%1.1f%%')\n",
    "ax.legend(wedges, labels, loc='center left', bbox_to_anchor=(1, 0.5))\n",
    "ax.set_title('Percentage of coupon usage', fontweight='bold')\n",
    "\n",
    "print(\"Drivers who accepted the coupons: \" + str(Accept_coupon))\n",
    "print(\"Total of observations: \" + str(lenght_coupon_data_cleaned_nona))\n",
    "print(\"Percentage of drivers who accepted the coupon: \" + str(Percentage)+ \"%\")\n",
    "\n",
    "# As we can see, the percentage of drivers who accept the coupon is superior to the percentage\n",
    "# of drivers who reject the coupons. This suggests that distributing discount coupons is a good strategy\n",
    "# to foster the consumption of food in restaurants."
   ]
  },
  {
   "cell_type": "markdown",
   "metadata": {
    "id": "vflz0DoE_qRI"
   },
   "source": [
    "5. Use a bar plot to visualize the `coupon` column."
   ]
  },
  {
   "cell_type": "code",
   "execution_count": 359,
   "metadata": {
    "id": "dHFh3E45_qRI"
   },
   "outputs": [
    {
     "data": {
      "image/png": "[encoded data removed]",
      "text/plain": [
       "<Figure size 432x288 with 1 Axes>"
      ]
     },
     "metadata": {
      "needs_background": "light"
     },
     "output_type": "display_data"
    }
   ],
   "source": [
    "# We prepared a bar plot for all the coupons, and we compared it against the coupon usage by restaurant. \n",
    "\n",
    "g=sns.barplot(x='coupon', y='Accepted_coupon',ci=None, data=coupon_data_cleaned_nona)\n",
    "g.set_xticklabels(g.get_xticklabels(), rotation=90)\n",
    "\n",
    "#plt.legend(labels=[\"No\",\"Yes\"], title = \"Coupon accepted\")\n",
    "plt.xlabel(\"Restaurants\")\n",
    "plt.ylabel(\"Perecentage of accepted coupons\")\n",
    "plt.title(\"Percentage of accepted coupons per Restaurant\", fontweight='bold', y=1.05)\n",
    "plt.ylim(0, max(plt.ylim()) + 0.1)\n",
    "\n",
    "for p in g.patches:\n",
    "    g.annotate(f'{round(p.get_height(),2)}', (p.get_x() + p.get_width() / 2., p.get_height()), ha='center', va='bottom')\n",
    "    \n",
    "# Per plot inspection, we observed that only the inexpensive restaurants and carry out restaurants have a high acceptance of the coupons\n",
    "# above 50%. However, all the other restaurants have moderate acceptance of coupons above 40%. \n",
    "\n",
    "# At a glance, coupons is an effective strategy to foster food consumption in restaurants. No matter what type of restaurant you select,\n",
    "# in all the cases they have acceptance superior to 40% of the cases."
   ]
  },
  {
   "cell_type": "markdown",
   "metadata": {
    "id": "Qw4lCyx2_qRI"
   },
   "source": [
    "6. Use a histogram to visualize the temperature column."
   ]
  },
  {
   "cell_type": "code",
   "execution_count": 360,
   "metadata": {
    "id": "Yg9Anv71_qRI"
   },
   "outputs": [
    {
     "data": {
      "image/png": "[encoded data removed]",
      "text/plain": [
       "<Figure size 432x288 with 1 Axes>"
      ]
     },
     "metadata": {
      "needs_background": "light"
     },
     "output_type": "display_data"
    }
   ],
   "source": [
    "#We prepared a histogram to visualize the temperature distribution. \n",
    "\n",
    "ax = sns.histplot(data=coupon_data_cleaned_nona, x=\"temperature\",bins=6)\n",
    "plt.xlabel(\"Observation temperature\")\n",
    "plt.ylabel(\"Number of observations\")\n",
    "plt.title(\"Histograms of Observation's Temperatures\", fontweight='bold', y=1.05)\n",
    "plt.ylim(0, max(plt.ylim()) + 1000) \n",
    "\n",
    "for p in ax.patches:\n",
    "    ax.annotate(f'{p.get_height()}', (p.get_x() + p.get_width() / 2., p.get_height()), ha='center', va='bottom')\n",
    "\n",
    "# Per histogram inspection, we observed that high temperatures are very common in the data frame. "
   ]
  },
  {
   "cell_type": "code",
   "execution_count": 361,
   "metadata": {},
   "outputs": [
    {
     "data": {
      "text/plain": [
       "Text(0.5, 1.0, 'Percentage of day temperatures')"
      ]
     },
     "execution_count": 361,
     "metadata": {},
     "output_type": "execute_result"
    },
    {
     "data": {
      "image/png": "[encoded data removed]",
      "text/plain": [
       "<Figure size 432x288 with 1 Axes>"
      ]
     },
     "metadata": {},
     "output_type": "display_data"
    }
   ],
   "source": [
    "# Also, we built a countplot and pie chart of the temperatures to have a better idea of \n",
    "# the percentage distribution of temperature observations in the data frame, and, also, \n",
    "# the coupon acceptance per temperature observation. \n",
    "\n",
    "y = coupon_data_cleaned_nona.groupby(['temperature']).count()\n",
    "\n",
    "# Create the pie chart\n",
    "fig, ax = plt.subplots()\n",
    "y.dtypes\n",
    "labels = [\"30F\", \"55F\",\"80F\"]\n",
    "wedges, texts, autotexts = ax.pie(y['destination'], labels=None, autopct='%1.1f%%')\n",
    "ax.legend(wedges, labels, loc='center left', bbox_to_anchor=(1, 0.5), title = \"Temperatures\")\n",
    "ax.set_title('Percentage of day temperatures', fontweight='bold')\n",
    "\n",
    "# From the pie chart below, 80F is the most common temperature (more than 51% of observations), \n",
    "# followed by the 55F temperature (30% of observations), and lastly 30F temperature (18% of observations). \n"
   ]
  },
  {
   "cell_type": "code",
   "execution_count": 362,
   "metadata": {},
   "outputs": [
    {
     "data": {
      "image/png": "[encoded data removed]",
      "text/plain": [
       "<Figure size 432x288 with 1 Axes>"
      ]
     },
     "metadata": {
      "needs_background": "light"
     },
     "output_type": "display_data"
    }
   ],
   "source": [
    "#Prepare the count plot\n",
    "\n",
    "ax=sns.countplot(x='temperature', hue = 'Accepted_coupon' , data=coupon_data_cleaned_nona)\n",
    "\n",
    "plt.xlabel(\"Temperature\")\n",
    "plt.ylabel(\"Number of observations\")\n",
    "plt.legend(labels=[\"No\",\"Yes\"], title = \"Coupon usage\")\n",
    "plt.title(\"Number of observation's temperature by coupon acceptance\", fontweight='bold', y=1.05)\n",
    "plt.ylim(0, max(plt.ylim()) + 500) \n",
    "\n",
    "\n",
    "for p in ax.patches:\n",
    "    ax.annotate(f'{p.get_height()}', (p.get_x() + p.get_width() / 2., p.get_height()), ha='center', va='bottom')\n",
    "\n",
    "# From the count chart below, the data suggests that coupons are accepted for any observation disregarding the temperature.\n",
    "# Further, it suggests that coupon acceptance increases with temperature, going from 1176 on 30F observations\n",
    "# (53% of acceptance) to 3727 on 80F observations (60% of acceptance). \n",
    "# On 80F observations, coupons are more accepted than any other temperature observation.\n",
    "\n",
    "# In conclusion, 80F observations are more common in the data frame as they represent 51% of the observations, \n",
    "# and coupon acceptance increases up to 60% on these observations. "
   ]
  },
  {
   "cell_type": "markdown",
   "metadata": {
    "id": "FupfgeJk_qRJ"
   },
   "source": [
    "1**Investigating the Bar Coupons**\n",
    "\n",
    "Now, we will lead you through an exploration of just the bar related coupons.  \n",
    "\n",
    "1. Create a new `DataFrame` that contains just the bar coupons.\n"
   ]
  },
  {
   "cell_type": "code",
   "execution_count": 363,
   "metadata": {
    "id": "tMBlWuGq_qRJ"
   },
   "outputs": [
    {
     "data": {
      "text/plain": [
       "(1123, 27)"
      ]
     },
     "execution_count": 363,
     "metadata": {},
     "output_type": "execute_result"
    }
   ],
   "source": [
    "#We will use the data frame cleaned before, and we will add the BAR filters(coupon filter sedt to BAR, and BAR filter different to never) \n",
    "\n",
    "bar_data = coupon_data_cleaned_nona.query('Bar != \"never\" and coupon == \"Bar\" ')\n",
    "len_bar_data = len(bar_data)\n",
    "bar_data.shape\n",
    "\n"
   ]
  },
  {
   "cell_type": "markdown",
   "metadata": {
    "id": "8ue6uCqf_qRJ"
   },
   "source": [
    "2. What proportion of bar coupons were accepted?\n"
   ]
  },
  {
   "cell_type": "code",
   "execution_count": 364,
   "metadata": {
    "id": "hSdte8Mi_qRK"
   },
   "outputs": [
    {
     "name": "stdout",
     "output_type": "stream",
     "text": [
      "Accept_coupon: 637\n",
      "Total of drivers: 1123\n",
      "Percentage of drivers accepting the bar coupon: 56.72%\n"
     ]
    },
    {
     "data": {
      "image/png": "[encoded data removed]",
      "text/plain": [
       "<Figure size 432x288 with 1 Axes>"
      ]
     },
     "metadata": {},
     "output_type": "display_data"
    }
   ],
   "source": [
    "# We count the total number of rows, and the total number of coupons that were accepted. \n",
    "# After that, we conducted a simple division and obtained the percentage of drivers using a discount coupon (56.72%).\n",
    "# Further, we prepared a pie chart for visualizations purposes, and we observed the same.\n",
    "\n",
    "Accept_coupon1= len(bar_data.query('Accepted_coupon == 1'))\n",
    "Percentage = (Accept_coupon1 / len_bar_data)*100\n",
    "\n",
    "y = bar_data.groupby(['Accepted_coupon']).count()\n",
    "\n",
    "fig, ax = plt.subplots()\n",
    "labels = [\"Coupon not accepted\", \"Coupon accepted\"]\n",
    "wedges, texts, autotexts = ax.pie(y['coupon'], labels=None, autopct='%1.1f%%')\n",
    "ax.legend(wedges, labels, loc='center left', bbox_to_anchor=(1, 0.5))\n",
    "ax.set_title('Percentage of coupon usage', fontweight='bold')\n",
    "\n",
    "print(\"Accept_coupon: \" + str(Accept_coupon1))\n",
    "print(\"Total of drivers: \" + str(len_bar_data))\n",
    "print(\"Percentage of drivers accepting the bar coupon: \" + str(round(Percentage,2))+ \"%\")\n",
    "\n"
   ]
  },
  {
   "cell_type": "markdown",
   "metadata": {
    "id": "85nA_iEi_qRK"
   },
   "source": [
    "3. Compare the acceptance rate between those who went to a bar 3 or fewer times a month to those who went more.\n"
   ]
  },
  {
   "cell_type": "code",
   "execution_count": 365,
   "metadata": {
    "id": "LBOrN-XM_qRK",
    "scrolled": true
   },
   "outputs": [
    {
     "data": {
      "image/png": "[encoded data removed]",
      "text/plain": [
       "<Figure size 432x288 with 1 Axes>"
      ]
     },
     "metadata": {
      "needs_background": "light"
     },
     "output_type": "display_data"
    }
   ],
   "source": [
    "# We created a new column called “Bar_less3” where we populated the column with ‘less3’ value if the “Bar” column\n",
    "# had “less1” or \"1~3\", and ‘gt3’ value if the “Bar” column had “4~8” or \"gt8\". Once we classified all the drivers\n",
    "# by “Bar_less3” column, we prepared a barplot showing the two groups (‘3 or less, and ‘more than 4’) vs\n",
    "# the “Accepted coupons”. \n",
    "\n",
    "bar_datanotna.loc[bar_datanotna['Bar'] == \"less1\", 'Bar_less3'] = '3 or less'\n",
    "bar_datanotna.loc[bar_datanotna['Bar'] == \"1~3\", 'Bar_less3'] = '3 or less'\n",
    "bar_datanotna.loc[bar_datanotna['Bar'] == \"4~8\", 'Bar_less3'] = 'more than 3'\n",
    "bar_datanotna.loc[bar_datanotna['Bar'] == \"gt8\", 'Bar_less3'] = 'more than 3'\n",
    "\n",
    "g=sns.barplot(x='Bar_less3', y='Accepted_coupon', ci=None, data=bar_datanotna)\n",
    "\n",
    "plt.xlabel(\"Bar attendance\")\n",
    "plt.ylabel(\"Percentage of accepted coupons\")\n",
    "plt.title(\"Percentage of accepted coupons vs Bar attendance\", fontweight='bold', y=1.05)\n",
    "plt.ylim(0, max(plt.ylim()) + 0.1)\n",
    "\n",
    "for p in g.patches:\n",
    "    g.annotate(f'{round(p.get_height(),2)}', (p.get_x() + p.get_width() / 2., p.get_height()), ha='center', va='bottom')\n",
    "    \n",
    "# From the bar plot below, drivers who go to the bar 3 or fewer times have 53% of coupon acceptance, \n",
    "# and drivers who go more than 3 times have 76% of coupon acceptance. Therefore, the more people go to a bar,\n",
    "# the more likely they use the coupon discount."
   ]
  },
  {
   "cell_type": "markdown",
   "metadata": {
    "id": "RBgcQwH4_qRK"
   },
   "source": [
    "4. Compare the acceptance rate between drivers who go to a bar more than once a month and are over the age of 25 to the all others.  Is there a difference?\n"
   ]
  },
  {
   "cell_type": "code",
   "execution_count": 366,
   "metadata": {
    "id": "bf28bbeX_qRK"
   },
   "outputs": [
    {
     "data": {
      "image/png": "[encoded data removed]",
      "text/plain": [
       "<Figure size 432x288 with 1 Axes>"
      ]
     },
     "metadata": {
      "needs_background": "light"
     },
     "output_type": "display_data"
    }
   ],
   "source": [
    "# Similarly, we created a new column called “Age_less25” where we populated the column with ’25 or less’ value \n",
    "# if the “age” column had “below21” or \"21\", and ‘more_than_25’ value if the “age” column had “26”, “31”, “36”, “41” or \"46\".\n",
    "# Once we classified all the drivers by “Age_less25” column, we prepared a barplot showing \n",
    "# the two groups (‘less_than_25’, and ‘more_than_25’) vs the “Accepted coupons” column. \n",
    "\n",
    "bar_datanotna.loc[bar_datanotna['age']  == \"below21\" , 'Age_less25'] = \"25 or less\"\n",
    "bar_datanotna.loc[bar_datanotna['age']  == \"21\" , 'Age_less25'] = \"25 or less\"\n",
    "bar_datanotna.loc[bar_datanotna['age']  == \"26\" , 'Age_less25'] = \"more than 25\"\n",
    "bar_datanotna.loc[bar_datanotna['age']  == \"31\" , 'Age_less25'] = \"more than 25\"\n",
    "bar_datanotna.loc[bar_datanotna['age']  == \"36\" , 'Age_less25'] = \"more than 25\"\n",
    "bar_datanotna.loc[bar_datanotna['age']  == \"41\" , 'Age_less25'] = \"more than 25\"\n",
    "bar_datanotna.loc[bar_datanotna['age']  == \"46\" , 'Age_less25'] = \"more than 25\"\n",
    "bar_datanotna.loc[bar_datanotna['age']  == \"50plus\" , 'Age_less25'] = \"more than 25\"\n",
    "\n",
    "g=sns.barplot(x='Age_less25', y='Accepted_coupon', ci=None, data=bar_datanotna)\n",
    "\n",
    "plt.xlabel(\"Age\")\n",
    "plt.ylabel(\"Percentage of accepted coupons\")\n",
    "plt.title(\"Percentage of accepted coupons vs Age\", fontweight='bold', y=1.05)\n",
    "plt.ylim(0, max(plt.ylim()) + 0.1)\n",
    "\n",
    "for p in g.patches:\n",
    "    g.annotate(f'{round(p.get_height(),2)}', (p.get_x() + p.get_width() / 2., p.get_height()), ha='center', va='bottom')\n",
    "    \n",
    "# From the bar plot below, drivers who are 25 years old or younger have 64% of coupon acceptance, and \n",
    "# drivers who are more than 25 years old have 54% of coupon acceptance. Therefore, the older the driver, \n",
    "# the more likely he/she uses the coupon discount."
   ]
  },
  {
   "cell_type": "markdown",
   "metadata": {
    "id": "S4RKT4PJ_qRK"
   },
   "source": [
    "5. Use the same process to compare the acceptance rate between drivers who go to bars more than once a month and had passengers that were not a kid and had occupations other than farming, fishing, or forestry.\n"
   ]
  },
  {
   "cell_type": "code",
   "execution_count": 367,
   "metadata": {
    "id": "sENaI2Tg_qRK"
   },
   "outputs": [
    {
     "data": {
      "image/png": "[encoded data removed]",
      "text/plain": [
       "<Figure size 432x288 with 1 Axes>"
      ]
     },
     "metadata": {
      "needs_background": "light"
     },
     "output_type": "display_data"
    }
   ],
   "source": [
    "# We applied filters to the data frame to the columns “Bar”, “Passanger”, and “occupation”. \n",
    "# After that, we prepared a barplot showing Bar frequency groups (‘1~3’, ‘4~8’, and ‘gt8’) vs \n",
    "# the “Accepted coupons” column. \n",
    "\n",
    "\n",
    "bar_datanotna_morethan1 = bar_datanotna.query('Bar != \"less1\" and passanger in [\"Friend(s)\",\"Partner\"] and occupation != \"Farming Fishing & Forestry\"')\n",
    "g=sns.barplot(x='Bar', y='Accepted_coupon', ci=None, data=bar_datanotna_morethan1)\n",
    "#print(len(bar_datanotna_morethan1))\n",
    "\n",
    "plt.xlabel(\"Bar attendance\")\n",
    "plt.ylabel(\"Percentage of accepted coupons\")\n",
    "plt.title(\"Percentage of accepted coupons vs Bar attendance\", fontweight='bold', y=1.05)\n",
    "plt.ylim(0, max(plt.ylim()) + 0.1)\n",
    "\n",
    "for p in g.patches:\n",
    "    g.annotate(f'{round(p.get_height(),2)}', (p.get_x() + p.get_width() / 2., p.get_height()), ha='center', va='bottom')\n",
    "\n",
    "# From the chart below, all the drivers over who go more than 1 time to the bar with passengers that \n",
    "# were not a kid and had occupations other than farming, fishing, or forestry \n",
    "# have similar high acceptance rate (between 67% and 72%) to use the coupon. "
   ]
  },
  {
   "cell_type": "markdown",
   "metadata": {
    "id": "n2LIUTil_qRK"
   },
   "source": [
    "6. Compare the acceptance rates between those drivers who:\n",
    "\n",
    "- go to bars more than once a month, had passengers that were not a kid, and were not widowed *OR*\n",
    "- go to bars more than once a month and are under the age of 30 *OR*\n",
    "- go to cheap restaurants more than 4 times a month and income is less than 50K.\n",
    "\n"
   ]
  },
  {
   "cell_type": "code",
   "execution_count": 368,
   "metadata": {
    "id": "aK_wEzx7_qRK"
   },
   "outputs": [
    {
     "name": "stdout",
     "output_type": "stream",
     "text": [
      "Accept_coupon after filter: 134\n",
      "Row counts for filtered dataset: 188\n",
      "Percentage of people accepting the coupon: 71.28%\n"
     ]
    },
    {
     "data": {
      "image/png": "[encoded data removed]",
      "text/plain": [
       "<Figure size 432x288 with 1 Axes>"
      ]
     },
     "metadata": {
      "needs_background": "light"
     },
     "output_type": "display_data"
    }
   ],
   "source": [
    "# We applied filters to the data frame to the columns “Bar”, “Passanger”, and “maritalStatus”. \n",
    "\n",
    "bar_datanotna_morethan1_passenger_widowed = bar_datanotna.query('Bar != \"less1\" and passanger in [\"Friend(s)\",\"Partner\"] and maritalStatus != \"Widowed\"')\n",
    "length_bar1 =len(bar_datanotna_morethan1_passenger_widowed)\n",
    "\n",
    "# After that, we count the total number of rows, and the total number of coupons that were accepted \n",
    "# on the filtered data frame. \n",
    "Accept_coupon1= len(bar_datanotna_morethan1_passenger_widowed.query('Accepted_coupon == 1'))\n",
    "\n",
    "# Lastly, we conducted a simple division and obtain the percentage of drivers within the filtered\n",
    "# dataset using a discount coupon (71.28%). \n",
    "Percentage1 = (Accept_coupon1 / length_bar1)*100\n",
    "\n",
    "print(\"Accept_coupon after filter: \" + str(Accept_coupon1))\n",
    "print(\"Row counts for filtered dataset: \" + str(length_bar1))\n",
    "print(\"Percentage of people accepting the coupon: \" + str(round(Percentage1,2))+ \"%\")\n",
    "\n",
    "# We, also, prepared a chart where we inspected the acceptance rate by bar attendance (between 67% and 72%),\n",
    "# and it shows a similar acceptance of coupons for each age group.\n",
    "g=sns.barplot(x='Bar', y='Accepted_coupon', ci=None, data=bar_datanotna_morethan1_passenger_widowed)\n",
    "plt.xlabel(\"Bar attendance\")\n",
    "plt.ylabel(\"Percentage of accepted coupons\")\n",
    "plt.title(\"Percentage of accepted coupons vs Bar attendance\", fontweight='bold', y=1.05)\n",
    "plt.ylim(0, max(plt.ylim()) + 0.1)\n",
    "\n",
    "for p in g.patches:\n",
    "    g.annotate(f'{round(p.get_height(),2)}', (p.get_x() + p.get_width() / 2., p.get_height()), ha='center', va='bottom')\n"
   ]
  },
  {
   "cell_type": "code",
   "execution_count": 369,
   "metadata": {},
   "outputs": [
    {
     "name": "stdout",
     "output_type": "stream",
     "text": [
      "Accept_coupon after filter2: 234\n",
      "Row counts for filtered dataset: 326\n",
      "Percentage of people accepting the coupon: 71.78%\n"
     ]
    },
    {
     "data": {
      "image/png": "[encoded data removed]",
      "text/plain": [
       "<Figure size 432x288 with 1 Axes>"
      ]
     },
     "metadata": {
      "needs_background": "light"
     },
     "output_type": "display_data"
    }
   ],
   "source": [
    "# We applied filters to the data frame to the columns “Bar” and “age”. \n",
    "\n",
    "bar_datanotna_morethan1_under30 = bar_datanotna.query('Bar != \"less1\" and age in [\"below21\",\"21\",\"26\"]')\n",
    "length_bar2 = len(bar_datanotna_morethan1_under30) \n",
    "\n",
    "# After that, we count the total number of rows, and the total number of coupons that were accepted \n",
    "# on the filtered data frame. \n",
    "Accept_coupon2= len(bar_datanotna_morethan1_under30.query('Accepted_coupon == 1'))\n",
    "\n",
    "# Lastly, we conducted a simple division and obtain the percentage of drivers within the filtered \n",
    "# dataset using a discount coupon (71.78%). \n",
    "Percentage2 = (Accept_coupon2 / length_bar2)*100\n",
    "\n",
    "print(\"Accept_coupon after filter2: \" + str(Accept_coupon2))\n",
    "print(\"Row counts for filtered dataset: \" + str(length_bar2))\n",
    "print(\"Percentage of people accepting the coupon: \" + str(round(Percentage2,2))+ \"%\")\n",
    "\n",
    "# We, also, prepared a chart where we inspected the acceptance rate by bar attendance for drivers below 30 years,\n",
    "# and it shows that people that go more than 4 times to bar per month are more likely to use the coupons \n",
    "# (nearly 80% of acceptance).\n",
    "\n",
    "g=sns.barplot(x='Bar', y='Accepted_coupon', ci=None, data=bar_datanotna_morethan1_under30)\n",
    "\n",
    "plt.xlabel(\"Bar attendance for drivers below 30 years\")\n",
    "plt.ylabel(\"Percentage of accepted coupons\")\n",
    "plt.title(\"Percentage of accepted coupons vs Bar attendance\", fontweight='bold', y=1.05)\n",
    "plt.ylim(0, max(plt.ylim()) + 0.1)\n",
    "\n",
    "for p in g.patches:\n",
    "    g.annotate(f'{round(p.get_height(),2)}', (p.get_x() + p.get_width() / 2., p.get_height()), ha='center', va='bottom')\n"
   ]
  },
  {
   "cell_type": "code",
   "execution_count": 370,
   "metadata": {},
   "outputs": [
    {
     "name": "stdout",
     "output_type": "stream",
     "text": [
      "Accept_coupon: 82\n",
      "Row counts for filtered dataset: 151\n",
      "Percentage of people accepting the coupon: 54.3%\n"
     ]
    },
    {
     "data": {
      "image/png": "[encoded data removed]",
      "text/plain": [
       "<Figure size 432x288 with 1 Axes>"
      ]
     },
     "metadata": {
      "needs_background": "light"
     },
     "output_type": "display_data"
    }
   ],
   "source": [
    "#We applied filters to the data frame to the columns “coupon”, “RestaurantLessThan20” and “income”.\n",
    "\n",
    "bar_datanotna_morethan4cheaprest_incomeless50 = bar_datanotna.query('RestaurantLessThan20 in [\"4~8\", \"gt8\"] and income in [\"$50000 - $62499\",\"$62500 - $74999\",\"$75000 - $87499\",\"$87500 - $99999\"]')\n",
    "length_bar3 = len(bar_datanotna_morethan4cheaprest_incomeless50)\n",
    "\n",
    "# After that, we count the total number of rows, and the total number of coupons that were accepted on the filtered data frame.\n",
    "Accept_coupon3= len(bar_datanotna_morethan4cheaprest_incomeless50.query('Accepted_coupon == 1'))\n",
    "\n",
    "# Lastly, we conducted a simple division and obtain the percentage of drivers within the filtered dataset \n",
    "# using a discount coupon (54.3%).\n",
    "Percentage3 = (Accept_coupon3 / length_bar3)*100\n",
    "\n",
    "print(\"Accept_coupon: \" + str(Accept_coupon3))\n",
    "print(\"Row counts for filtered dataset: \" + str(length_bar3))\n",
    "print(\"Percentage of people accepting the coupon: \" + str(round(Percentage3,2))+ \"%\")\n",
    "\n",
    "# We, also, prepared a chart where we inspected the acceptance rate for bar tickets by cheap restaurant attendance \n",
    "# for drivers who attend to cheap restaurants more than 4 times with an income less than 50K, and it shows that\n",
    "# low income people that go to cheap restaurants are more likely to use the coupons (nearly 80% of acceptance). \n",
    "# Conversely, drivers who go more than 8 times to cheap restaurants will not accept the bar discount coupon \n",
    "# (26% of acceptance).\n",
    "\n",
    "g=sns.barplot(x='RestaurantLessThan20', y='Accepted_coupon', ci=None, data=bar_datanotna_morethan4cheaprest_incomeless50)\n",
    "\n",
    "plt.xlabel(\"Cheap Restaurant attendance for low income drivers (less than 50K)\")\n",
    "plt.ylabel(\"Percentage of accepted coupons\")\n",
    "plt.title(\"Percentage of accepted coupons vs Bar attendance\", fontweight='bold', y=1.05)\n",
    "plt.ylim(0, max(plt.ylim()) + 0.1)\n",
    "\n",
    "for p in g.patches:\n",
    "    g.annotate(f'{round(p.get_height(),2)}', (p.get_x() + p.get_width() / 2., p.get_height()), ha='center', va='bottom')\n"
   ]
  },
  {
   "cell_type": "markdown",
   "metadata": {
    "id": "v3fL3QkO_qRK"
   },
   "source": [
    "7.  Based on these observations, what do you hypothesize about drivers who accepted the bar coupons?"
   ]
  },
  {
   "cell_type": "code",
   "execution_count": 371,
   "metadata": {
    "id": "Y48naDFh_qRL"
   },
   "outputs": [
    {
     "name": "stdout",
     "output_type": "stream",
     "text": [
      "Based on prior charts, they are young people (less than 30 years) that go to the bar more than 1 time per month. They usually go when they are driving with friends or partners(no kids). In terms of their economy, they earn less than 50K and they go to eat to cheap restaurants between 4 and 8 times per month. \n"
     ]
    }
   ],
   "source": [
    "print(\"Based on prior charts, they are young people (less than 30 years) that go to the bar more than 1 time per month. They usually go when they are driving with friends or partners(no kids). In terms of their economy, they earn less than 50K and they go to eat to cheap restaurants between 4 and 8 times per month. \")"
   ]
  },
  {
   "cell_type": "markdown",
   "metadata": {
    "id": "r4Hu1zOb_qRL"
   },
   "source": [
    "### Independent Investigation\n",
    "\n",
    "Using the bar coupon example as motivation, you are to explore one of the other coupon groups and try to determine the characteristics of passengers who accept the coupons.  "
   ]
  },
  {
   "cell_type": "code",
   "execution_count": 372,
   "metadata": {
    "id": "0c71cQhu_qRL"
   },
   "outputs": [
    {
     "data": {
      "text/plain": [
       "(1192, 27)"
      ]
     },
     "execution_count": 372,
     "metadata": {},
     "output_type": "execute_result"
    }
   ],
   "source": [
    "# 1. Create a new Data Frame that contains just the Expensive restaurant coupons.\n",
    "\n",
    "# We will use the data frame cleaned before, and we will add the BAR filters(coupon filter sedt to BAR, and BAR filter different to never) \n",
    "\n",
    "Expensive_Restaurant_Data = coupon_data_cleaned_nona.query('Restaurant20To50 != \"never\" and coupon == \"Restaurant(20-50)\" ')\n",
    "Lenght_Expensive_Restaurant_Data = len(Expensive_Restaurant_Data) \n",
    "Expensive_Restaurant_Data.shape\n",
    "#print(Lenght_Expensive_Restaurant_Data)\n"
   ]
  },
  {
   "cell_type": "code",
   "execution_count": 373,
   "metadata": {},
   "outputs": [
    {
     "name": "stdout",
     "output_type": "stream",
     "text": [
      "Accepted coupon: 563\n",
      "Total of drivers (Exp Rest): 1192\n",
      "Percentage of drivers accepting the bar coupon: 47.23%\n"
     ]
    },
    {
     "data": {
      "image/png": "[encoded data removed]",
      "text/plain": [
       "<Figure size 432x288 with 1 Axes>"
      ]
     },
     "metadata": {},
     "output_type": "display_data"
    }
   ],
   "source": [
    "#2.\tWhat proportion of expensive restaurant coupons were accepted?\n",
    "\n",
    "# We count the total number of rows, and the total number of coupons that were accepted. \n",
    "Accept_coupon1= len(Expensive_Restaurant_Data.query('Accepted_coupon == 1'))\n",
    "\n",
    "# After that, we conducted a simple division and obtained the percentage of drivers using a discount coupon (47.23%). \n",
    "# Further, we prepared a pie chart for visualizations purposes, and we observed the same.\n",
    "Percentage = (Accept_coupon1 / Lenght_Expensive_Restaurant_Data)*100\n",
    "\n",
    "y = Expensive_Restaurant_Data.groupby(['Accepted_coupon']).count()\n",
    "\n",
    "\n",
    "fig, ax = plt.subplots()\n",
    "labels = [\"Coupon not accepted\", \"Coupon accepted\"]\n",
    "wedges, texts, autotexts = ax.pie(y['coupon'], labels=None, autopct='%1.1f%%')\n",
    "ax.legend(wedges, labels, loc='center left', bbox_to_anchor=(1, 0.5))\n",
    "ax.set_title('Percentage of coupon usage', fontweight='bold')\n",
    "\n",
    "print(\"Accepted coupon: \" + str(Accept_coupon1))\n",
    "print(\"Total of drivers (Exp Rest): \" + str(Lenght_Expensive_Restaurant_Data))\n",
    "print(\"Percentage of drivers accepting the bar coupon: \" + str(round(Percentage,2))+ \"%\")\n"
   ]
  },
  {
   "cell_type": "code",
   "execution_count": 374,
   "metadata": {},
   "outputs": [
    {
     "data": {
      "image/png": "[encoded data removed]",
      "text/plain": [
       "<Figure size 432x288 with 1 Axes>"
      ]
     },
     "metadata": {
      "needs_background": "light"
     },
     "output_type": "display_data"
    }
   ],
   "source": [
    "#3. What is the income distribution of the drivers with expensive restaurant coupons?\n",
    "# First, we will classify the drivers with Exp Restaurant coupons by income and prepare a count plot\n",
    "\n",
    "desired_order = ['Less than $12500', '$12500 - $24999', '$25000 - $37499','$37500 - $49999','$50000 - $62499','$62500 - $74999','$75000 - $87499','$87500 - $99999','$100000 or More']\n",
    "#g=sns.countplot(x='income', hue='Accepted_coupon', data=Expensive_Restaurant_Data, order = desired_order)\n",
    "g=sns.countplot(x='income', data=Expensive_Restaurant_Data, order = desired_order)\n",
    "g.set_xticklabels(g.get_xticklabels(), rotation=90)\n",
    "\n",
    "#plt.legend(labels=[\"No\",\"Yes\"], title = \"Coupon accepted\")\n",
    "plt.xlabel(\"Driver Income\")\n",
    "plt.ylabel(\"Number of observations\")\n",
    "plt.title(\"Number of Driver with Exp Rest Coupons by Income\", fontweight='bold', y=1.05)\n",
    "plt.ylim(0, max(plt.ylim()) + 100)\n",
    "\n",
    "#plt.legend(labels=[\"No\",\"Yes\"], title = \"Coupon usage\")\n",
    "\n",
    "\n",
    "for p in g.patches:\n",
    "    g.annotate(f'{round(p.get_height(),2)}', (p.get_x() + p.get_width() / 2., p.get_height()), ha='center', va='bottom')\n",
    "\n",
    "# From inspection of the count plot, we observe that the biggest number of observations comes from the drivers who earn more than 100K per year."
   ]
  },
  {
   "cell_type": "code",
   "execution_count": 375,
   "metadata": {},
   "outputs": [
    {
     "name": "stdout",
     "output_type": "stream",
     "text": [
      "190\n"
     ]
    }
   ],
   "source": [
    "# 4. What is the education level of the drivers earning more than 100K with expensive restaurant coupons?\n",
    "\n",
    "# We will inspect the 190 drivers with Exp Rest coupons earning more than 100K per year,\n",
    "\n",
    "Expensive_Restaurant_Data_morethan100K= Expensive_Restaurant_Data.query('income == \"$100000 or More\"')\n",
    "Length_Expensive_Restaurant_Data_morethan100K = len(Expensive_Restaurant_Data_morethan100K)\n",
    "print(Length_Expensive_Restaurant_Data_morethan100K)"
   ]
  },
  {
   "cell_type": "code",
   "execution_count": 376,
   "metadata": {},
   "outputs": [
    {
     "data": {
      "image/png": "[encoded data removed]",
      "text/plain": [
       "<Figure size 432x288 with 1 Axes>"
      ]
     },
     "metadata": {
      "needs_background": "light"
     },
     "output_type": "display_data"
    }
   ],
   "source": [
    "# and we will classify them by education degree. \n",
    "\n",
    "desired_order = [\"Some college - no degree\",\"Associates degree\",\"Bachelors degree\",\"Graduate degree (Masters or Doctorate)\"]\n",
    "\n",
    "# We prepared a count plot, \n",
    "g=sns.countplot(x='education', data=Expensive_Restaurant_Data_morethan100K, order = desired_order)\n",
    "g.set_xticklabels(g.get_xticklabels(), rotation=90)\n",
    "#plt.legend(labels=[\"No\",\"Yes\"], title = \"Coupon usage\")\n",
    "\n",
    "\n",
    "#plt.legend(title = \"Exp Rest attendance\")\n",
    "plt.xlabel(\"Education level\")\n",
    "plt.ylabel(\"Number of observations\")\n",
    "plt.title(\"Number of Driver with Exp Rest Coupons by education level\", fontweight='bold', y=1.05)\n",
    "plt.ylim(0, max(plt.ylim()) + 20)\n",
    "#plt.legend(labels=[\"No\",\"Yes\"], title = \"Coupon usage\")\n",
    "\n",
    "for p in g.patches:\n",
    "    g.annotate(f'{round(p.get_height(),2)}', (p.get_x() + p.get_width() / 2., p.get_height()), ha='center', va='bottom')\n",
    "\n",
    "#  and observed 82 drivers with Bachelor degree, which represents 43.15%. Therefore, we will inspect the Bachelor group"
   ]
  },
  {
   "cell_type": "code",
   "execution_count": 377,
   "metadata": {},
   "outputs": [
    {
     "data": {
      "image/png": "[encoded data removed]",
      "text/plain": [
       "<Figure size 432x288 with 1 Axes>"
      ]
     },
     "metadata": {
      "needs_background": "light"
     },
     "output_type": "display_data"
    }
   ],
   "source": [
    "# 5. What is the expensive restaurant attendance and coupon usage for drivers earning more than 100K with Bachelor’s degree\n",
    "# and expensive restaurant coupons?\n",
    "\n",
    "# We will inspect the 82 drivers with Bachelor education and Exp Rest coupons earning more than 100K per year,\n",
    "# and we will classify them by attendance. \n",
    "\n",
    "Expensive_Restaurant_Data_morethan100K_Bachelor= Expensive_Restaurant_Data_morethan100K.query('education == \"Bachelors degree\"')\n",
    "\n",
    "# We prepared a count plot by attendance and coupon acceptance, \n",
    "desired_order = [\"less1\",\"1~3\",\"4~8\"]\n",
    "g=sns.countplot(x='Restaurant20To50', hue =\"Accepted_coupon\" , data=Expensive_Restaurant_Data_morethan100K_Bachelor, order = desired_order)\n",
    "g.set_xticklabels(g.get_xticklabels(), rotation=90)\n",
    "\n",
    "#plt.legend(title = \"Exp Rest attendance\")\n",
    "plt.xlabel(\"Expensive restaurant attendance\")\n",
    "plt.ylabel(\"Number of observations\")\n",
    "plt.title(\"Number of observance by Expensive Restaurants attendac\", fontweight='bold', y=1.05)\n",
    "plt.ylim(0, max(plt.ylim()) + 5)\n",
    "plt.legend(labels=[\"No\",\"Yes\"], title = \"Coupon usage\")\n",
    "\n",
    "for p in g.patches:\n",
    "    g.annotate(f'{round(p.get_height(),2)}', (p.get_x() + p.get_width() / 2., p.get_height()), ha='center', va='bottom')\n",
    "#and observed that as the frequency of attendance increases (less1, 1~3,4~8), the attendance values decrease (43, 35, 4). Further, the more monthly visits per group increase (43, 35, 4), the coupon acceptance numbers increase (15, 18, 3) as well. It is important to note that coupons will be more likely to be accepted for any driver that goes more than 1 time per month (18>17 and 3>1) to expensive restaurants.\n"
   ]
  },
  {
   "cell_type": "code",
   "execution_count": 378,
   "metadata": {},
   "outputs": [
    {
     "name": "stdout",
     "output_type": "stream",
     "text": [
      "In conclusion, expensive restaurant coupons will be more likely accepted by drivers earning more than 100k with a bachelor’s degree when they go more than 1 time per month to an expensive restaurant.\n"
     ]
    }
   ],
   "source": [
    "#6. Based on these observations, what do you hypothesize about drivers who accepted the expensive restaurant coupons?\n",
    "\n",
    "print('In conclusion, expensive restaurant coupons will be more likely accepted by drivers earning more than 100k with a bachelor’s degree when they go more than 1 time per month to an expensive restaurant.')"
   ]
  },
  {
   "cell_type": "code",
   "execution_count": null,
   "metadata": {},
   "outputs": [],
   "source": []
  },
  {
   "cell_type": "code",
   "execution_count": null,
   "metadata": {},
   "outputs": [],
   "source": []
  }
 ],
 "metadata": {
  "colab": {
   "provenance": []
  },
  "kernelspec": {
   "display_name": "Python 3",
   "language": "python",
   "name": "python3"
  },
  "language_info": {
   "codemirror_mode": {
    "name": "ipython",
    "version": 3
   },
   "file_extension": ".py",
   "mimetype": "text/x-python",
   "name": "python",
   "nbconvert_exporter": "python",
   "pygments_lexer": "ipython3",
   "version": "3.8.5"
  }
 },
 "nbformat": 4,
 "nbformat_minor": 1
}
